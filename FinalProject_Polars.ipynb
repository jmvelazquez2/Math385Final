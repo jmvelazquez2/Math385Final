{
 "cells": [
  {
   "cell_type": "code",
   "execution_count": null,
   "metadata": {},
   "outputs": [],
   "source": [
    "#pip install polars"
   ]
  },
  {
   "cell_type": "code",
   "execution_count": null,
   "metadata": {},
   "outputs": [],
   "source": [
    "import pandas as pd\n",
    "import polars as pl\n",
    "import numpy as np\n",
    "import plotnine as pn\n",
    "import matplotlib.pyplot as plt"
   ]
  },
  {
   "cell_type": "markdown",
   "metadata": {},
   "source": [
    "## Final Project\n",
    "Whats Polars? Whats different and whats the same? Pros and Cons of Polars"
   ]
  },
  {
   "cell_type": "markdown",
   "metadata": {},
   "source": [
    "Polars is a data frame library like Pandas but designed for high performance data manipulation and analysis in Python. Built with a focus on speed and efficiency, Polars leverages Rust to offer faster computations, which is targeted for large datasets."
   ]
  },
  {
   "cell_type": "markdown",
   "metadata": {},
   "source": [
    "---"
   ]
  },
  {
   "cell_type": "markdown",
   "metadata": {},
   "source": [
    "**Reading from file**"
   ]
  },
  {
   "cell_type": "code",
   "execution_count": null,
   "metadata": {},
   "outputs": [],
   "source": [
    "polarsdf= pl.read_csv(\"https://raw.githubusercontent.com/roualdes/data/refs/heads/master/donkeys.csv\")\n",
    "\n",
    "pandasdf = pd.read_csv(\"https://raw.githubusercontent.com/roualdes/data/refs/heads/master/donkeys.csv\")"
   ]
  },
  {
   "cell_type": "code",
   "execution_count": null,
   "metadata": {},
   "outputs": [],
   "source": [
    "#Data frame type comparison\n",
    "\n",
    "print(\"Polars data frame: \", type(polarsdf))\n",
    "print()\n",
    "print(\"Pandas data frame: \", type(pandasdf))"
   ]
  },
  {
   "cell_type": "code",
   "execution_count": null,
   "metadata": {},
   "outputs": [],
   "source": [
    "#Data frame var type\n",
    "\n",
    "print(\"Polars data types: \", polarsdf.dtypes)\n",
    "print()\n",
    "print(\"Pandas data types: \", pandasdf.dtypes)"
   ]
  },
  {
   "cell_type": "markdown",
   "metadata": {},
   "source": [
    "*Reading data from a file is identical in both Polars and Pandas. However, there are notable differences in how they handle data types. Polars and Pandas store DataFrames in distinct internal structures, reflecting their unique designs. Additionally, Polars tends to use strings for certain columns, whereas Pandas represents them as objects. These distinctions can impact future processing and should be considered when choosing between the two libraries.*"
   ]
  },
  {
   "cell_type": "markdown",
   "metadata": {},
   "source": [
    "---"
   ]
  },
  {
   "cell_type": "markdown",
   "metadata": {},
   "source": [
    "**Data manipulation**"
   ]
  },
  {
   "cell_type": "markdown",
   "metadata": {},
   "source": [
    "1. Filtering data"
   ]
  },
  {
   "cell_type": "code",
   "execution_count": null,
   "metadata": {},
   "outputs": [],
   "source": [
    "#Filter for donkeys that are more then 100kg\n",
    "\n",
    "print(\"Pandas: \")\n",
    "print()\n",
    "pandafilter = pandasdf[pandasdf[\"Weight\"]>200]\n",
    "pandasort = pandafilter.sort_values(by= \"Weight\", ascending =  True)\n",
    "print(pandasort)\n",
    "\n",
    "print()\n",
    "\n",
    "print(\"Polars: \")\n",
    "print()\n",
    "polarsfilter = polarsdf.filter(polarsdf[\"Weight\"]>200)\n",
    "polarssort = polarsfilter.sort(by = \"Weight\", descending =  False)\n",
    "print(polarssort)\n"
   ]
  },
  {
   "cell_type": "markdown",
   "metadata": {},
   "source": [
    "*Specify and use of the .filter function in order to filter in polars compared to pandas. Sorting works the opposite way of pandas, instead of sorting with ascending you sort with descending.*"
   ]
  },
  {
   "cell_type": "markdown",
   "metadata": {},
   "source": [
    "2. Selecting data"
   ]
  },
  {
   "cell_type": "code",
   "execution_count": null,
   "metadata": {},
   "outputs": [],
   "source": [
    "#Select the age for donkeys that weigh more then 200 kg\n",
    "print(\"Pandas: \")\n",
    "print()\n",
    "result1 = pandafilter[\"Age\"]\n",
    "print(result1)\n",
    "\n",
    "print()\n",
    "\n",
    "print(\"Polars: \")\n",
    "print()\n",
    "result = polarsfilter.select(\n",
    "    pl.col(\"Age\")\n",
    ")\n",
    "print(result)\n"
   ]
  },
  {
   "cell_type": "markdown",
   "metadata": {},
   "source": [
    "*In polars you need to use a library function .select in order to view specific columns in a data frame.*"
   ]
  },
  {
   "cell_type": "markdown",
   "metadata": {},
   "source": [
    "3. Grouping and Aggregating "
   ]
  },
  {
   "cell_type": "code",
   "execution_count": null,
   "metadata": {},
   "outputs": [],
   "source": [
    "#Find the mean length, median height, and standard deviation weight for each sex of a donkey\n",
    "print(\"Pandas: \")\n",
    "print()\n",
    "pandagrp=pandasdf.groupby(\"Sex\").aggregate(mean_length = (\"Length\", np.mean),\n",
    "                               median_height = (\"Height\", np.median),\n",
    "                               std_weight = (\"Weight\", np.std))\n",
    "print(pandagrp)\n",
    "\n",
    "print()\n",
    "\n",
    "print(\"Polars: \")\n",
    "print()\n",
    "polarsgrp = polarsdf.group_by(\"Sex\").agg([\n",
    "    pl.col(\"Length\").mean().alias(\"mean_length\"),\n",
    "    pl.col(\"Height\").median().alias(\"median_height\"),\n",
    "    pl.col(\"Weight\").std().alias(\"std_weight\")])\n",
    "print(polarsgrp)"
   ]
  },
  {
   "cell_type": "markdown",
   "metadata": {},
   "source": [
    "*In order to add to an existing data frame you use .agg instead of .aggregate. In order to create new columns you need to also use the .alias function. Not able to use numpy math functions as polars does not output numpy array but instead series*"
   ]
  },
  {
   "cell_type": "markdown",
   "metadata": {},
   "source": [
    "4. Editing variable"
   ]
  },
  {
   "cell_type": "code",
   "execution_count": null,
   "metadata": {},
   "outputs": [],
   "source": [
    "print(\"Panda: \")\n",
    "pandasedited=pandasdf[\"Sex\"].str.replace(\"female\", \"f\")\n",
    "print(pandasedited)\n",
    "\n",
    "print()\n",
    "\n",
    "print(\"Polars: \")\n",
    "polarsedited=polarsdf.with_columns(pl.col(\"Sex\").str.replace(\"female\", \"f\"))\n",
    "print(polarsedited)\n"
   ]
  },
  {
   "cell_type": "markdown",
   "metadata": {},
   "source": [
    "*Editing variable names in polars requires the use of the .col polars function to access specific columns*"
   ]
  },
  {
   "cell_type": "markdown",
   "metadata": {},
   "source": [
    "---"
   ]
  },
  {
   "cell_type": "markdown",
   "metadata": {},
   "source": [
    "**Library Compatibility**"
   ]
  },
  {
   "cell_type": "markdown",
   "metadata": {},
   "source": [
    "**Numpy**"
   ]
  },
  {
   "cell_type": "code",
   "execution_count": null,
   "metadata": {},
   "outputs": [],
   "source": [
    "#Error\n",
    "#Polars\n",
    "#np.mean(polarsdf[\"Length\"])"
   ]
  },
  {
   "cell_type": "code",
   "execution_count": null,
   "metadata": {},
   "outputs": [],
   "source": [
    "#Panda\n",
    "print(\"Pandas: \")\n",
    "print(np.mean(pandasdf[\"Length\"]))\n",
    "\n",
    "print()\n",
    "\n",
    "#Polars\n",
    "print(\"Polars: \")\n",
    "print(np.mean(polarsdf[\"Length\"].to_numpy()))\n",
    "print(polarsdf[\"Length\"].mean())"
   ]
  },
  {
   "cell_type": "code",
   "execution_count": null,
   "metadata": {},
   "outputs": [],
   "source": [
    "#Polars\n",
    "result1 = polarsdf[\"Age\"].unique()\n",
    "print(\"Polars unique age:\",result1)\n",
    "\n",
    "print()\n",
    "\n",
    "#Pandas\n",
    "result2 = pandasdf[\"Age\"].unique()\n",
    "print(\"Pandas unique age:\",result2)\n"
   ]
  },
  {
   "cell_type": "markdown",
   "metadata": {},
   "source": [
    "*The difference here is that pandas outputs the result onto a numpy array while polars outputs a series which is consistent with its data frame structure.*"
   ]
  },
  {
   "cell_type": "markdown",
   "metadata": {},
   "source": [
    "**Regex**"
   ]
  },
  {
   "cell_type": "code",
   "execution_count": null,
   "metadata": {},
   "outputs": [],
   "source": [
    "#Pandas\n",
    "print(\"Pandas: \")\n",
    "loanpanda = pd.read_csv(\"https://raw.githubusercontent.com/roualdes/data/refs/heads/master/loans.csv\")\n",
    "print(loanpanda[\"zip_code\"].str.extract(\"([1-9]{3})\"))\n",
    "\n",
    "print()\n",
    "\n",
    "#Polars\n",
    "print(\"Polars: \")\n",
    "loanpolar = pl.read_csv(\"https://raw.githubusercontent.com/roualdes/data/refs/heads/master/loans.csv\")\n",
    "print(loanpolar[\"zip_code\"].str.extract(\"([1-9]{3})\"))"
   ]
  },
  {
   "cell_type": "markdown",
   "metadata": {},
   "source": [
    "*Regex works exactly the same*"
   ]
  },
  {
   "cell_type": "markdown",
   "metadata": {},
   "source": [
    "**Plotnine**"
   ]
  },
  {
   "cell_type": "code",
   "execution_count": null,
   "metadata": {},
   "outputs": [],
   "source": [
    "#Pandas\n",
    "pn.ggplot() + pn.geom_point(loanpanda, pn.aes(\"loan_amnt\", \"total_pymnt\"))"
   ]
  },
  {
   "cell_type": "code",
   "execution_count": null,
   "metadata": {},
   "outputs": [],
   "source": [
    "#Error\n",
    "#Polars\n",
    "#pn.ggplot() + pn.geom_point(loanpolar, pn.aes(\"loan_amnt\", \"total_pymnt\"))"
   ]
  },
  {
   "cell_type": "markdown",
   "metadata": {},
   "source": [
    "*Plotnine does not work with polars. This is due to pandas only working with pandas data frames.*"
   ]
  },
  {
   "cell_type": "markdown",
   "metadata": {},
   "source": [
    "*Graphing for polars works with Altair, hvPlot, Matplotlib, Seabor, and plotty*"
   ]
  },
  {
   "cell_type": "markdown",
   "metadata": {},
   "source": [
    "---"
   ]
  },
  {
   "cell_type": "markdown",
   "metadata": {},
   "source": [
    "**Why use Polars?**"
   ]
  },
  {
   "cell_type": "markdown",
   "metadata": {},
   "source": [
    "**Answer = Speed Up**"
   ]
  },
  {
   "cell_type": "markdown",
   "metadata": {},
   "source": [
    "Timing reading a file"
   ]
  },
  {
   "cell_type": "markdown",
   "metadata": {},
   "source": [
    "https://www.kaggle.com/datasets/weitat/sample-sales?resource=download"
   ]
  },
  {
   "cell_type": "code",
   "execution_count": null,
   "metadata": {},
   "outputs": [],
   "source": [
    "%%time\n",
    "polarsdf1= pl.read_csv(\"./data/sales_5000000.csv\")\n"
   ]
  },
  {
   "cell_type": "code",
   "execution_count": null,
   "metadata": {},
   "outputs": [],
   "source": [
    "%%timeit\n",
    "polarsdf1= pl.read_csv(\"./data/sales_5000000.csv\")"
   ]
  },
  {
   "cell_type": "code",
   "execution_count": null,
   "metadata": {},
   "outputs": [],
   "source": [
    "%%time\n",
    "pandasdf1 = pd.read_csv(\"./data/sales_5000000.csv\")"
   ]
  },
  {
   "cell_type": "code",
   "execution_count": null,
   "metadata": {},
   "outputs": [],
   "source": [
    "%%timeit\n",
    "pandasdf1 = pd.read_csv(\"./data/sales_5000000.csv\")"
   ]
  },
  {
   "cell_type": "markdown",
   "metadata": {},
   "source": [
    "Timing filtering "
   ]
  },
  {
   "cell_type": "code",
   "execution_count": null,
   "metadata": {},
   "outputs": [],
   "source": [
    "polarsSales= pl.read_csv(\"./data/sales_5000000.csv\")\n",
    "pandasSales = pd.read_csv(\"./data/sales_5000000.csv\")"
   ]
  },
  {
   "cell_type": "code",
   "execution_count": null,
   "metadata": {},
   "outputs": [],
   "source": [
    "polarsSales"
   ]
  },
  {
   "cell_type": "code",
   "execution_count": null,
   "metadata": {},
   "outputs": [],
   "source": [
    "%%time\n",
    "#Polars\n",
    "result = polarsSales[\"Country\"].unique()\n",
    "print(\"Polars unique country:\",result)\n"
   ]
  },
  {
   "cell_type": "code",
   "execution_count": null,
   "metadata": {},
   "outputs": [],
   "source": [
    "%%time\n",
    "#Pandas\n",
    "result = pandasSales[\"Country\"].unique()\n",
    "print(\"Polars unique country:\",result)"
   ]
  },
  {
   "cell_type": "code",
   "execution_count": null,
   "metadata": {},
   "outputs": [],
   "source": [
    "#%%timeit\n",
    "\n",
    "# Group by Region and aggregate\n",
    "result = pandasSales.groupby(\"Region\").agg(\n",
    "    median_unitssold=(\"Units Sold\", np.median),\n",
    "    median_unitprice=(\"Unit Price\", np.median),\n",
    "    total_revenue=(\"Total Revenue\", np.sum),\n",
    "    std_profit=(\"Total Profit\", np.std),\n",
    "    total_units_sold=(\"Units Sold\", np.sum),  # For filtering\n",
    ").reset_index()\n",
    "\n",
    "#Filter regions with 10,000 units or more\n",
    "result = result[result[\"total_units_sold\"] > 10000]\n",
    "result\n",
    "\n"
   ]
  },
  {
   "cell_type": "code",
   "execution_count": null,
   "metadata": {},
   "outputs": [],
   "source": [
    "#%%timeit\n",
    "\n",
    "# Group by Region and aggregate\n",
    "result = (\n",
    "    polarsSales.group_by(\"Region\")\n",
    "    .agg([\n",
    "        pl.col(\"Units Sold\").median().alias(\"median_unitssold\"),\n",
    "        pl.col(\"Unit Price\").median().alias(\"median_unitprice\"),\n",
    "        pl.col(\"Total Revenue\").sum().alias(\"total_revenue\"),\n",
    "        pl.col(\"Total Profit\").std().alias(\"std_profit\"),\n",
    "        pl.col(\"Units Sold\").sum().alias(\"total_units_sold\"),\n",
    "    ])\n",
    "    #Filter regions with 10,000 units or more\n",
    "    .filter(pl.col(\"total_units_sold\") > 10000)\n",
    ")\n",
    "result\n"
   ]
  },
  {
   "cell_type": "markdown",
   "metadata": {},
   "source": [
    "Diagram of how it works"
   ]
  },
  {
   "attachments": {
    "image.png": {
     "image/png": "[encoded data removed]"
    }
   },
   "cell_type": "markdown",
   "metadata": {},
   "source": [
    "\n",
    "![image.png](attachment:image.png)"
   ]
  }
 ],
 "metadata": {
  "kernelspec": {
   "display_name": "Python 3",
   "language": "python",
   "name": "python3"
  },
  "language_info": {
   "codemirror_mode": {
    "name": "ipython",
    "version": 3
   },
   "file_extension": ".py",
   "mimetype": "text/x-python",
   "name": "python",
   "nbconvert_exporter": "python",
   "pygments_lexer": "ipython3",
   "version": "3.12.7"
  }
 },
 "nbformat": 4,
 "nbformat_minor": 2
}
